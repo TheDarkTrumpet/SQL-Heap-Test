{
 "cells": [
  {
   "cell_type": "code",
   "execution_count": 1,
   "outputs": [],
   "source": [
    "from essential_generators import DocumentGenerator\n",
    "import sqlalchemy as sa\n",
    "from sqlalchemy.sql import text\n",
    "from sqlalchemy.orm import sessionmaker\n",
    "from sqlalchemy.orm import Session\n",
    "import uuid\n",
    "import random\n",
    "import time\n",
    "import pandas as pd\n",
    "from multiprocessing import Pool\n",
    "import itertools\n",
    "from helper import executeScript, addRecords, timeInstance"
   ],
   "metadata": {
    "collapsed": false,
    "pycharm": {
     "name": "#%%\n"
    }
   }
  },
  {
   "cell_type": "code",
   "execution_count": 2,
   "outputs": [],
   "source": [
    "# User customizable stuff\n",
    "server = \"mssql.ad.tdt\"\n",
    "database = \"sqlHeapTest\"\n",
    "numRecords = 400000\n",
    "results = []"
   ],
   "metadata": {
    "collapsed": false,
    "pycharm": {
     "name": "#%%\n"
    }
   }
  },
  {
   "cell_type": "markdown",
   "source": [
    "# Setup database for testing\n",
    "Connect to the base, and run the setupDB.sql contents"
   ],
   "metadata": {
    "collapsed": false,
    "pycharm": {
     "name": "#%% md\n"
    }
   }
  },
  {
   "cell_type": "code",
   "execution_count": 4,
   "outputs": [
    {
     "name": "stderr",
     "output_type": "stream",
     "text": [
      "/var/folders/d7/4cl_f7wd7y5_c9gcsjbt78y80000gn/T/ipykernel_91241/3657996963.py:1: SAWarning: No driver name specified; this is expected by PyODBC when using DSN-less connections\n",
      "  engine = sa.create_engine(f\"mssql+pyodbc://{server}/TempDB?Driver=ODBC+Driver+18+for+SQL+Server&Trusted_Connection=yes&TrustServerCertificate=Yes\", connect_args = {'autocommit':True})\n"
     ]
    }
   ],
   "source": [
    "engine = sa.create_engine(f\"mssql+pyodbc://{server}/TempDB?Driver=ODBC+Driver+18+for+SQL+Server&Trusted_Connection=yes&TrustServerCertificate=Yes\", connect_args = {'autocommit':True})"
   ],
   "metadata": {
    "collapsed": false,
    "pycharm": {
     "name": "#%%\n"
    }
   }
  },
  {
   "cell_type": "code",
   "execution_count": 5,
   "outputs": [],
   "source": [
    "executeScript(engine, \"setupDB.sql\")"
   ],
   "metadata": {
    "collapsed": false,
    "pycharm": {
     "name": "#%%\n"
    }
   }
  },
  {
   "cell_type": "markdown",
   "source": [
    "# Setup Fixture Data\n",
    "Using the newly created setup, connect and insert some test records"
   ],
   "metadata": {
    "collapsed": false,
    "pycharm": {
     "name": "#%% md\n"
    }
   }
  },
  {
   "cell_type": "code",
   "execution_count": 6,
   "outputs": [
    {
     "name": "stderr",
     "output_type": "stream",
     "text": [
      "/var/folders/d7/4cl_f7wd7y5_c9gcsjbt78y80000gn/T/ipykernel_91241/2762592990.py:1: SAWarning: No driver name specified; this is expected by PyODBC when using DSN-less connections\n",
      "  engine = sa.create_engine(f\"mssql+pyodbc://{server}/{database}?Driver=ODBC+Driver+18+for+SQL+Server&Trusted_Connection=yes&TrustServerCertificate=Yes\")\n"
     ]
    },
    {
     "data": {
      "text/plain": "<sqlalchemy.engine.base.Connection at 0x152e1e430>"
     },
     "execution_count": 6,
     "metadata": {},
     "output_type": "execute_result"
    }
   ],
   "source": [
    "engine = sa.create_engine(f\"mssql+pyodbc://{server}/{database}?Driver=ODBC+Driver+18+for+SQL+Server&Trusted_Connection=yes&TrustServerCertificate=Yes\")\n",
    "conn = engine.connect()\n",
    "conn"
   ],
   "metadata": {
    "collapsed": false,
    "pycharm": {
     "name": "#%%\n"
    }
   }
  },
  {
   "cell_type": "code",
   "execution_count": 7,
   "outputs": [
    {
     "name": "stdout",
     "output_type": "stream",
     "text": [
      "Number of records attempted to be inserted: 400000\n"
     ]
    }
   ],
   "source": [
    "addRecords(numRecords, conn)"
   ],
   "metadata": {
    "collapsed": false,
    "pycharm": {
     "name": "#%%\n"
    }
   }
  },
  {
   "cell_type": "markdown",
   "source": [
    "# Test 1\n",
    "Setup a clustered index, timing how long it takes on one column"
   ],
   "metadata": {
    "collapsed": false,
    "pycharm": {
     "name": "#%% md\n"
    }
   }
  },
  {
   "cell_type": "code",
   "execution_count": 8,
   "outputs": [
    {
     "name": "stdout",
     "output_type": "stream",
     "text": [
      "Completed in 4.1575 seconds\n"
     ]
    }
   ],
   "source": [
    "t = timeInstance(lambda: executeScript(engine, \"test1.sql\"))\n",
    "results.append({\n",
    "    \"Test\": \"Test 1\",\n",
    "    \"Description\": \"Create clustered Index, one column\",\n",
    "    \"Time (s)\": t\n",
    "})"
   ],
   "metadata": {
    "collapsed": false,
    "pycharm": {
     "name": "#%%\n"
    }
   }
  },
  {
   "cell_type": "markdown",
   "source": [
    "# Test 2\n",
    "Remove the clustered index, timing how long it takes"
   ],
   "metadata": {
    "collapsed": false,
    "pycharm": {
     "name": "#%% md\n"
    }
   }
  },
  {
   "cell_type": "code",
   "execution_count": 9,
   "outputs": [
    {
     "name": "stdout",
     "output_type": "stream",
     "text": [
      "Completed in 0.0531 seconds\n"
     ]
    }
   ],
   "source": [
    "t = timeInstance(lambda: executeScript(engine, \"test2.sql\"))\n",
    "results.append({\n",
    "    \"Test\": \"Test 2\",\n",
    "    \"Description\": \"Drop single-column Clustered Index\",\n",
    "    \"Time (s)\": t\n",
    "})"
   ],
   "metadata": {
    "collapsed": false,
    "pycharm": {
     "name": "#%%\n"
    }
   }
  },
  {
   "cell_type": "markdown",
   "source": [
    "# Test 3\n",
    "Insert another bunch of records and re-add the clustered index"
   ],
   "metadata": {
    "collapsed": false,
    "pycharm": {
     "name": "#%% md\n"
    }
   }
  },
  {
   "cell_type": "code",
   "execution_count": 10,
   "outputs": [
    {
     "name": "stdout",
     "output_type": "stream",
     "text": [
      "Number of records attempted to be inserted: 400000\n"
     ]
    }
   ],
   "source": [
    "addRecords(numRecords, conn)"
   ],
   "metadata": {
    "collapsed": false,
    "pycharm": {
     "name": "#%%\n"
    }
   }
  },
  {
   "cell_type": "code",
   "execution_count": 11,
   "outputs": [
    {
     "name": "stdout",
     "output_type": "stream",
     "text": [
      "Completed in 6.9913 seconds\n"
     ]
    }
   ],
   "source": [
    "t = timeInstance(lambda: executeScript(engine, \"test1.sql\"))\n",
    "results.append({\n",
    "    \"Test\": \"Test 3\",\n",
    "    \"Description\": \"Create clustered Index, one column, extra records\",\n",
    "    \"Time (s)\": t\n",
    "})"
   ],
   "metadata": {
    "collapsed": false,
    "pycharm": {
     "name": "#%%\n"
    }
   }
  },
  {
   "cell_type": "markdown",
   "source": [
    "# Test 4\n",
    "Drop the clustered index, again timing"
   ],
   "metadata": {
    "collapsed": false,
    "pycharm": {
     "name": "#%% md\n"
    }
   }
  },
  {
   "cell_type": "code",
   "execution_count": 12,
   "outputs": [
    {
     "name": "stdout",
     "output_type": "stream",
     "text": [
      "Completed in 0.0681 seconds\n"
     ]
    }
   ],
   "source": [
    "t = timeInstance(lambda: executeScript(engine, \"test2.sql\"))\n",
    "results.append({\n",
    "    \"Test\": \"Test 4\",\n",
    "    \"Description\": \"Drop single-column Clustered Index, extra records\",\n",
    "    \"Time (s)\": t\n",
    "})"
   ],
   "metadata": {
    "collapsed": false,
    "pycharm": {
     "name": "#%%\n"
    }
   }
  },
  {
   "cell_type": "markdown",
   "source": [
    "# Second Test!  With 2 columns in index\n",
    "\n",
    "# Prep Database"
   ],
   "metadata": {
    "collapsed": false,
    "pycharm": {
     "name": "#%% md\n"
    }
   }
  },
  {
   "cell_type": "code",
   "execution_count": 13,
   "outputs": [
    {
     "name": "stderr",
     "output_type": "stream",
     "text": [
      "/var/folders/d7/4cl_f7wd7y5_c9gcsjbt78y80000gn/T/ipykernel_91241/2932847717.py:1: SAWarning: No driver name specified; this is expected by PyODBC when using DSN-less connections\n",
      "  engine = sa.create_engine(f\"mssql+pyodbc://{server}/TempDB?Driver=ODBC+Driver+18+for+SQL+Server&Trusted_Connection=yes&TrustServerCertificate=Yes\", connect_args = {'autocommit':True})\n"
     ]
    }
   ],
   "source": [
    "engine = sa.create_engine(f\"mssql+pyodbc://{server}/TempDB?Driver=ODBC+Driver+18+for+SQL+Server&Trusted_Connection=yes&TrustServerCertificate=Yes\", connect_args = {'autocommit':True})\n",
    "executeScript(engine, \"setupDB.sql\")"
   ],
   "metadata": {
    "collapsed": false,
    "pycharm": {
     "name": "#%%\n"
    }
   }
  },
  {
   "cell_type": "code",
   "execution_count": 14,
   "outputs": [
    {
     "name": "stderr",
     "output_type": "stream",
     "text": [
      "/var/folders/d7/4cl_f7wd7y5_c9gcsjbt78y80000gn/T/ipykernel_91241/2762592990.py:1: SAWarning: No driver name specified; this is expected by PyODBC when using DSN-less connections\n",
      "  engine = sa.create_engine(f\"mssql+pyodbc://{server}/{database}?Driver=ODBC+Driver+18+for+SQL+Server&Trusted_Connection=yes&TrustServerCertificate=Yes\")\n"
     ]
    },
    {
     "data": {
      "text/plain": "<sqlalchemy.engine.base.Connection at 0x15b277eb0>"
     },
     "execution_count": 14,
     "metadata": {},
     "output_type": "execute_result"
    }
   ],
   "source": [
    "engine = sa.create_engine(f\"mssql+pyodbc://{server}/{database}?Driver=ODBC+Driver+18+for+SQL+Server&Trusted_Connection=yes&TrustServerCertificate=Yes\")\n",
    "conn = engine.connect()\n",
    "conn"
   ],
   "metadata": {
    "collapsed": false,
    "pycharm": {
     "name": "#%%\n"
    }
   }
  },
  {
   "cell_type": "code",
   "execution_count": 15,
   "outputs": [
    {
     "name": "stdout",
     "output_type": "stream",
     "text": [
      "Number of records attempted to be inserted: 400000\n"
     ]
    }
   ],
   "source": [
    "addRecords(numRecords, conn)"
   ],
   "metadata": {
    "collapsed": false,
    "pycharm": {
     "name": "#%%\n"
    }
   }
  },
  {
   "cell_type": "markdown",
   "source": [
    "# Test 5\n",
    "Setup a clustered index, two columns, seeing how long it takes"
   ],
   "metadata": {
    "collapsed": false,
    "pycharm": {
     "name": "#%% md\n"
    }
   }
  },
  {
   "cell_type": "code",
   "execution_count": 16,
   "outputs": [
    {
     "name": "stdout",
     "output_type": "stream",
     "text": [
      "Completed in 5.9317 seconds\n"
     ]
    }
   ],
   "source": [
    "t = timeInstance(lambda: executeScript(engine, \"test3.sql\"))\n",
    "results.append({\n",
    "    \"Test\": \"Test 5\",\n",
    "    \"Description\": \"Create clustered Index, two columns\",\n",
    "    \"Time (s)\": t\n",
    "})"
   ],
   "metadata": {
    "collapsed": false,
    "pycharm": {
     "name": "#%%\n"
    }
   }
  },
  {
   "cell_type": "markdown",
   "source": [
    "# Test 6\n",
    "Remove the clustered index, timing how long it takes"
   ],
   "metadata": {
    "collapsed": false,
    "pycharm": {
     "name": "#%% md\n"
    }
   }
  },
  {
   "cell_type": "code",
   "execution_count": 17,
   "outputs": [
    {
     "name": "stdout",
     "output_type": "stream",
     "text": [
      "Completed in 0.0436 seconds\n"
     ]
    }
   ],
   "source": [
    "t = timeInstance(lambda: executeScript(engine, \"test2.sql\"))\n",
    "results.append({\n",
    "    \"Test\": \"Test 6\",\n",
    "    \"Description\": \"Drop dual-column Clustered Index\",\n",
    "    \"Time (s)\": t\n",
    "})"
   ],
   "metadata": {
    "collapsed": false,
    "pycharm": {
     "name": "#%%\n"
    }
   }
  },
  {
   "cell_type": "markdown",
   "source": [
    "# Test 7\n",
    "Insert another bunch of records and re-add the clustered index"
   ],
   "metadata": {
    "collapsed": false,
    "pycharm": {
     "name": "#%% md\n"
    }
   }
  },
  {
   "cell_type": "code",
   "execution_count": 18,
   "outputs": [
    {
     "name": "stdout",
     "output_type": "stream",
     "text": [
      "Number of records attempted to be inserted: 400000\n"
     ]
    }
   ],
   "source": [
    "addRecords(numRecords, conn)"
   ],
   "metadata": {
    "collapsed": false,
    "pycharm": {
     "name": "#%%\n"
    }
   }
  },
  {
   "cell_type": "code",
   "execution_count": 19,
   "outputs": [
    {
     "name": "stdout",
     "output_type": "stream",
     "text": [
      "Completed in 24.8392 seconds\n"
     ]
    }
   ],
   "source": [
    "t = timeInstance(lambda: executeScript(engine, \"test3.sql\"))\n",
    "results.append({\n",
    "    \"Test\": \"Test 7\",\n",
    "    \"Description\": \"Create clustered Index, 2 columns, extra records\",\n",
    "    \"Time (s)\": t\n",
    "})"
   ],
   "metadata": {
    "collapsed": false,
    "pycharm": {
     "name": "#%%\n"
    }
   }
  },
  {
   "cell_type": "markdown",
   "source": [
    "# Test 8\n",
    "Drop the clustered Index, again timing"
   ],
   "metadata": {
    "collapsed": false,
    "pycharm": {
     "name": "#%% md\n"
    }
   }
  },
  {
   "cell_type": "code",
   "execution_count": 20,
   "outputs": [
    {
     "name": "stdout",
     "output_type": "stream",
     "text": [
      "Completed in 0.2225 seconds\n"
     ]
    }
   ],
   "source": [
    "t = timeInstance(lambda: executeScript(engine, \"test2.sql\"))\n",
    "results.append({\n",
    "    \"Test\": \"Test 8\",\n",
    "    \"Description\": \"Drop dual-column Clustered Index, extra records\",\n",
    "    \"Time (s)\": t\n",
    "})"
   ],
   "metadata": {
    "collapsed": false,
    "pycharm": {
     "name": "#%%\n"
    }
   }
  },
  {
   "cell_type": "markdown",
   "source": [
    "# Plot Results"
   ],
   "metadata": {
    "collapsed": false,
    "pycharm": {
     "name": "#%% md\n"
    }
   }
  },
  {
   "cell_type": "code",
   "execution_count": 21,
   "outputs": [],
   "source": [
    "import seaborn as sns\n",
    "import matplotlib.pyplot as plt\n",
    "import pandas as pd"
   ],
   "metadata": {
    "collapsed": false,
    "pycharm": {
     "name": "#%%\n"
    }
   }
  },
  {
   "cell_type": "code",
   "execution_count": 22,
   "outputs": [
    {
     "data": {
      "text/plain": "     Test                                        Description Time (s)\n0  Test 1                 Create clustered Index, one column   4.1575\n1  Test 2                 Drop single-column Clustered Index   0.0531\n2  Test 3  Create clustered Index, one column, extra records   6.9913\n3  Test 4  Drop single-column Clustered Index, extra records   0.0681\n4  Test 5                Create clustered Index, two columns   5.9317\n5  Test 6                   Drop dual-column Clustered Index   0.0436\n6  Test 7   Create clustered Index, 2 columns, extra records  24.8392\n7  Test 8    Drop dual-column Clustered Index, extra records   0.2225",
      "text/html": "<div>\n<style scoped>\n    .dataframe tbody tr th:only-of-type {\n        vertical-align: middle;\n    }\n\n    .dataframe tbody tr th {\n        vertical-align: top;\n    }\n\n    .dataframe thead th {\n        text-align: right;\n    }\n</style>\n<table border=\"1\" class=\"dataframe\">\n  <thead>\n    <tr style=\"text-align: right;\">\n      <th></th>\n      <th>Test</th>\n      <th>Description</th>\n      <th>Time (s)</th>\n    </tr>\n  </thead>\n  <tbody>\n    <tr>\n      <th>0</th>\n      <td>Test 1</td>\n      <td>Create clustered Index, one column</td>\n      <td>4.1575</td>\n    </tr>\n    <tr>\n      <th>1</th>\n      <td>Test 2</td>\n      <td>Drop single-column Clustered Index</td>\n      <td>0.0531</td>\n    </tr>\n    <tr>\n      <th>2</th>\n      <td>Test 3</td>\n      <td>Create clustered Index, one column, extra records</td>\n      <td>6.9913</td>\n    </tr>\n    <tr>\n      <th>3</th>\n      <td>Test 4</td>\n      <td>Drop single-column Clustered Index, extra records</td>\n      <td>0.0681</td>\n    </tr>\n    <tr>\n      <th>4</th>\n      <td>Test 5</td>\n      <td>Create clustered Index, two columns</td>\n      <td>5.9317</td>\n    </tr>\n    <tr>\n      <th>5</th>\n      <td>Test 6</td>\n      <td>Drop dual-column Clustered Index</td>\n      <td>0.0436</td>\n    </tr>\n    <tr>\n      <th>6</th>\n      <td>Test 7</td>\n      <td>Create clustered Index, 2 columns, extra records</td>\n      <td>24.8392</td>\n    </tr>\n    <tr>\n      <th>7</th>\n      <td>Test 8</td>\n      <td>Drop dual-column Clustered Index, extra records</td>\n      <td>0.2225</td>\n    </tr>\n  </tbody>\n</table>\n</div>"
     },
     "execution_count": 22,
     "metadata": {},
     "output_type": "execute_result"
    }
   ],
   "source": [
    "pdResults = pd.DataFrame.from_dict(results)\n",
    "pdResults"
   ],
   "metadata": {
    "collapsed": false,
    "pycharm": {
     "name": "#%%\n"
    }
   }
  },
  {
   "cell_type": "code",
   "execution_count": 23,
   "outputs": [
    {
     "name": "stdout",
     "output_type": "stream",
     "text": [
      "<class 'pandas.core.frame.DataFrame'>\n",
      "RangeIndex: 8 entries, 0 to 7\n",
      "Data columns (total 4 columns):\n",
      " #   Column       Non-Null Count  Dtype  \n",
      "---  ------       --------------  -----  \n",
      " 0   Test         8 non-null      object \n",
      " 1   Description  8 non-null      object \n",
      " 2   Time (s)     8 non-null      float64\n",
      " 3   Time         8 non-null      float64\n",
      "dtypes: float64(2), object(2)\n",
      "memory usage: 384.0+ bytes\n"
     ]
    }
   ],
   "source": [
    "pdResults[\"Time (s)\"] = pdResults[\"Time (s)\"].astype(float)"
   ],
   "metadata": {
    "collapsed": false,
    "pycharm": {
     "name": "#%%\n"
    }
   }
  },
  {
   "cell_type": "code",
   "execution_count": 24,
   "outputs": [
    {
     "data": {
      "text/plain": "<AxesSubplot:xlabel='Test', ylabel='Time (s)'>"
     },
     "execution_count": 24,
     "metadata": {},
     "output_type": "execute_result"
    },
    {
     "data": {
      "text/plain": "<Figure size 1080x576 with 1 Axes>",
      "image/png": "[encoded data removed]"
     },
     "metadata": {
      "needs_background": "light"
     },
     "output_type": "display_data"
    }
   ],
   "source": [
    "plt.figure(figsize=(15,8))\n",
    "sns.barplot(data=pdResults, x=\"Test\", y=\"Time (s)\")"
   ],
   "metadata": {
    "collapsed": false,
    "pycharm": {
     "name": "#%%\n"
    }
   }
  }
 ],
 "metadata": {
  "kernelspec": {
   "display_name": "Python 3",
   "language": "python",
   "name": "python3"
  },
  "language_info": {
   "codemirror_mode": {
    "name": "ipython",
    "version": 2
   },
   "file_extension": ".py",
   "mimetype": "text/x-python",
   "name": "python",
   "nbconvert_exporter": "python",
   "pygments_lexer": "ipython2",
   "version": "2.7.6"
  }
 },
 "nbformat": 4,
 "nbformat_minor": 0
}