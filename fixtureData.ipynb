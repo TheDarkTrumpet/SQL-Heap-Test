{
 "cells": [
  {
   "cell_type": "code",
   "execution_count": 1,
   "outputs": [],
   "source": [
    "import seaborn as sns\n",
    "import matplotlib.pyplot as plt\n",
    "import pandas as pd\n",
    "from helper import ExecuteScript, AddRecords, TimeInstance, CreateEngine"
   ],
   "metadata": {
    "collapsed": false,
    "pycharm": {
     "name": "#%%\n"
    }
   }
  },
  {
   "cell_type": "code",
   "execution_count": 2,
   "outputs": [],
   "source": [
    "# User customizable stuff\n",
    "server = \"mssql.ad.tdt\"\n",
    "database = \"sqlHeapTest\"\n",
    "numRecords = 400000\n",
    "results = []"
   ],
   "metadata": {
    "collapsed": false,
    "pycharm": {
     "name": "#%%\n"
    }
   }
  },
  {
   "cell_type": "markdown",
   "source": [
    "# TEST CATEGORY 1 - Single-Column Clustered Indexes\n",
    "\n",
    "The following section will test the creation/deletion of a Clustered Index in various scenarios and with various amounts of data.  The Tests and keys are below:\n",
    "\n",
    "| Test Number | Description                                                  |\n",
    "|-------------|--------------------------------------------------------------|\n",
    "| Test 1      | One-Column, integer, Clustered Index Create                  |\n",
    "| Test 2      | One-Column, integer, Clustered Index Delete                  |\n",
    "| Test 3      | One-Column, integer, Clustered Index Create  - Extra Records |\n",
    "| Test 4      | One-Column, integer, Clustered Index Delete  - Extra Records |"
   ],
   "metadata": {
    "collapsed": false,
    "pycharm": {
     "name": "#%% md\n"
    }
   }
  },
  {
   "cell_type": "code",
   "execution_count": 3,
   "outputs": [],
   "source": [
    "# Setup Database\n",
    "engine = CreateEngine(server, autocommit=True)\n",
    "ExecuteScript(engine, \"setupDB.sql\")"
   ],
   "metadata": {
    "collapsed": false,
    "pycharm": {
     "name": "#%%\n"
    }
   }
  },
  {
   "cell_type": "code",
   "execution_count": 4,
   "outputs": [
    {
     "name": "stdout",
     "output_type": "stream",
     "text": [
      "Number of records attempted to be inserted: 400000\n"
     ]
    }
   ],
   "source": [
    "# Add Fixture Records - Base Set\n",
    "engine = CreateEngine(server, database)\n",
    "with engine.connect() as conn:\n",
    "    AddRecords(numRecords, conn)"
   ],
   "metadata": {
    "collapsed": false,
    "pycharm": {
     "name": "#%%\n"
    }
   }
  },
  {
   "cell_type": "markdown",
   "source": [
    "## Test 1 - One-Column, integer, Clustered Index Create"
   ],
   "metadata": {
    "collapsed": false,
    "pycharm": {
     "name": "#%% md\n"
    }
   }
  },
  {
   "cell_type": "code",
   "execution_count": null,
   "outputs": [],
   "source": [
    "t = TimeInstance(lambda: ExecuteScript(engine, \"test1.sql\"))\n",
    "\n",
    "results.append({\n",
    "    \"Test\": \"Test 1\",\n",
    "    \"Description\": \"Create clustered Index, one column\",\n",
    "    \"Time (s)\": t,\n",
    "    \"Category\": \"Cluster Add\"\n",
    "})"
   ],
   "metadata": {
    "collapsed": false,
    "pycharm": {
     "name": "#%%\n"
    }
   }
  },
  {
   "cell_type": "markdown",
   "source": [
    "## Test 2 - One-Column, integer, Clustered Index Delete"
   ],
   "metadata": {
    "collapsed": false,
    "pycharm": {
     "name": "#%% md\n"
    }
   }
  },
  {
   "cell_type": "code",
   "execution_count": null,
   "outputs": [],
   "source": [
    "t = TimeInstance(lambda: ExecuteScript(engine, \"test2.sql\"))\n",
    "results.append({\n",
    "    \"Test\": \"Test 2\",\n",
    "    \"Description\": \"Drop single-column Clustered Index\",\n",
    "    \"Time (s)\": t,\n",
    "    \"Category\": \"Cluster Drop\"\n",
    "})"
   ],
   "metadata": {
    "collapsed": false,
    "pycharm": {
     "name": "#%%\n"
    }
   }
  },
  {
   "cell_type": "markdown",
   "source": [
    "## Test 3 - One-Column, integer, Clustered Index Create - Extra Records"
   ],
   "metadata": {
    "collapsed": false,
    "pycharm": {
     "name": "#%% md\n"
    }
   }
  },
  {
   "cell_type": "code",
   "execution_count": null,
   "outputs": [],
   "source": [
    "with engine.connect() as conn:\n",
    "    AddRecords(numRecords, conn)"
   ],
   "metadata": {
    "collapsed": false,
    "pycharm": {
     "name": "#%%\n"
    }
   }
  },
  {
   "cell_type": "code",
   "execution_count": null,
   "outputs": [],
   "source": [
    "t = TimeInstance(lambda: ExecuteScript(engine, \"test1.sql\"))\n",
    "results.append({\n",
    "    \"Test\": \"Test 3\",\n",
    "    \"Description\": \"Create clustered Index, one column, extra records\",\n",
    "    \"Time (s)\": t,\n",
    "    \"Category\": \"Cluster Add\"\n",
    "})"
   ],
   "metadata": {
    "collapsed": false,
    "pycharm": {
     "name": "#%%\n"
    }
   }
  },
  {
   "cell_type": "markdown",
   "source": [
    "## Test 4 - One-Column, integer, Clustered Index Delete - Extra Records"
   ],
   "metadata": {
    "collapsed": false,
    "pycharm": {
     "name": "#%% md\n"
    }
   }
  },
  {
   "cell_type": "code",
   "execution_count": null,
   "outputs": [],
   "source": [
    "t = TimeInstance(lambda: ExecuteScript(engine, \"test2.sql\"))\n",
    "results.append({\n",
    "    \"Test\": \"Test 4\",\n",
    "    \"Description\": \"Drop single-column Clustered Index, extra records\",\n",
    "    \"Time (s)\": t,\n",
    "    \"Category\": \"Cluster Drop\"\n",
    "})"
   ],
   "metadata": {
    "collapsed": false,
    "pycharm": {
     "name": "#%%\n"
    }
   }
  },
  {
   "cell_type": "markdown",
   "source": [
    "# TEST CATEGORY 2 - Dual-Column Clustered Indexes\n",
    "\n",
    "The following section will test the creation/deletion of a Clustered Index in various scenarios and with various amounts of data.  The Tests and keys are below:\n",
    "\n",
    "| Test Number | Description                                         |\n",
    "|-------------|-----------------------------------------------------|\n",
    "| Test 5      | Two-Column, Clustered Index Create                  |\n",
    "| Test 6      | Two-Column, Clustered Index Delete                  |\n",
    "| Test 7      | Two-Column, Clustered Index Create  - Extra Records |\n",
    "| Test 8      | Two-Column, Clustered Index Delete  - Extra Records |"
   ],
   "metadata": {
    "collapsed": false,
    "pycharm": {
     "name": "#%% md\n"
    }
   }
  },
  {
   "cell_type": "code",
   "execution_count": null,
   "outputs": [],
   "source": [
    "# Setup Database\n",
    "engine = CreateEngine(server, autocommit=True)\n",
    "ExecuteScript(engine, \"setupDB.sql\")"
   ],
   "metadata": {
    "collapsed": false,
    "pycharm": {
     "name": "#%%\n"
    }
   }
  },
  {
   "cell_type": "code",
   "execution_count": null,
   "outputs": [],
   "source": [
    "# Add Fixture Records - Base Set\n",
    "engine = CreateEngine(server, database)\n",
    "with engine.connect() as conn:\n",
    "    AddRecords(numRecords, conn)"
   ],
   "metadata": {
    "collapsed": false,
    "pycharm": {
     "name": "#%%\n"
    }
   }
  },
  {
   "cell_type": "markdown",
   "source": [
    "## Test 5 - Two-Column, Clustered Index Create"
   ],
   "metadata": {
    "collapsed": false,
    "pycharm": {
     "name": "#%% md\n"
    }
   }
  },
  {
   "cell_type": "code",
   "execution_count": null,
   "outputs": [],
   "source": [
    "t = TimeInstance(lambda: ExecuteScript(engine, \"test3.sql\"))\n",
    "results.append({\n",
    "    \"Test\": \"Test 5\",\n",
    "    \"Description\": \"Create clustered Index, two columns\",\n",
    "    \"Time (s)\": t,\n",
    "    \"Category\": \"Cluster Add\"\n",
    "})"
   ],
   "metadata": {
    "collapsed": false,
    "pycharm": {
     "name": "#%%\n"
    }
   }
  },
  {
   "cell_type": "markdown",
   "source": [
    "## Test 6 - Two-Column, Clustered Index Delete"
   ],
   "metadata": {
    "collapsed": false,
    "pycharm": {
     "name": "#%% md\n"
    }
   }
  },
  {
   "cell_type": "code",
   "execution_count": null,
   "outputs": [],
   "source": [
    "t = TimeInstance(lambda: ExecuteScript(engine, \"test2.sql\"))\n",
    "results.append({\n",
    "    \"Test\": \"Test 6\",\n",
    "    \"Description\": \"Drop dual-column Clustered Index\",\n",
    "    \"Time (s)\": t,\n",
    "    \"Category\": \"Cluster Drop\"\n",
    "})"
   ],
   "metadata": {
    "collapsed": false,
    "pycharm": {
     "name": "#%%\n"
    }
   }
  },
  {
   "cell_type": "markdown",
   "source": [
    "## Test 7 - Two-Column, Clustered Index Create - Extra Records"
   ],
   "metadata": {
    "collapsed": false,
    "pycharm": {
     "name": "#%% md\n"
    }
   }
  },
  {
   "cell_type": "code",
   "execution_count": null,
   "outputs": [],
   "source": [
    "with engine.connect() as conn:\n",
    "    AddRecords(numRecords, conn)"
   ],
   "metadata": {
    "collapsed": false,
    "pycharm": {
     "name": "#%%\n"
    }
   }
  },
  {
   "cell_type": "code",
   "execution_count": null,
   "outputs": [],
   "source": [
    "t = TimeInstance(lambda: ExecuteScript(engine, \"test3.sql\"))\n",
    "results.append({\n",
    "    \"Test\": \"Test 7\",\n",
    "    \"Description\": \"Create clustered Index, 2 columns, extra records\",\n",
    "    \"Time (s)\": t,\n",
    "    \"Category\": \"Cluster Add\"\n",
    "})"
   ],
   "metadata": {
    "collapsed": false,
    "pycharm": {
     "name": "#%%\n"
    }
   }
  },
  {
   "cell_type": "markdown",
   "source": [
    "## Test 8 - Two-Column, Clustered Index Delete - Extra Records"
   ],
   "metadata": {
    "collapsed": false,
    "pycharm": {
     "name": "#%% md\n"
    }
   }
  },
  {
   "cell_type": "code",
   "execution_count": null,
   "outputs": [],
   "source": [
    "t = TimeInstance(lambda: ExecuteScript(engine, \"test2.sql\"))\n",
    "results.append({\n",
    "    \"Test\": \"Test 8\",\n",
    "    \"Description\": \"Drop dual-column Clustered Index, extra records\",\n",
    "    \"Time (s)\": t,\n",
    "    \"Category\": \"Cluster Drop\"\n",
    "})"
   ],
   "metadata": {
    "collapsed": false,
    "pycharm": {
     "name": "#%%\n"
    }
   }
  },
  {
   "cell_type": "markdown",
   "source": [
    "# TEST CATEGORY 3 - Single-Column Non-Clustered Indexes\n",
    "\n",
    "The following section will test the creation/deletion of a Non-Clustered Index in various scenarios and with various amounts of data.  The Tests and keys are below:\n",
    "\n",
    "| Test Number | Description                                                |\n",
    "|-------------|------------------------------------------------------------|\n",
    "| Test 9      | Single-Column, Non-Clustered Index Create                  |\n",
    "| Test 10     | Single-Column, Non-Clustered Index Delete                  |\n",
    "| Test 11     | Single-Column, Non-Clustered Index Create  - Extra Records |\n",
    "| Test 12     | Single-Column, Non-Clustered Index Delete  - Extra Records |"
   ],
   "metadata": {
    "collapsed": false,
    "pycharm": {
     "name": "#%% md\n"
    }
   }
  },
  {
   "cell_type": "code",
   "execution_count": null,
   "outputs": [],
   "source": [
    "engine = CreateEngine(server, autocommit=True)\n",
    "ExecuteScript(engine, \"setupDB.sql\")"
   ],
   "metadata": {
    "collapsed": false,
    "pycharm": {
     "name": "#%%\n"
    }
   }
  },
  {
   "cell_type": "code",
   "execution_count": null,
   "outputs": [],
   "source": [
    "engine = CreateEngine(server, database)\n",
    "\n",
    "with engine.connect() as conn:\n",
    "    AddRecords(numRecords, conn)"
   ],
   "metadata": {
    "collapsed": false,
    "pycharm": {
     "name": "#%%\n"
    }
   }
  },
  {
   "cell_type": "markdown",
   "source": [
    "## Test 9 - Single-Column, Non-Clustered Index Create"
   ],
   "metadata": {
    "collapsed": false,
    "pycharm": {
     "name": "#%% md\n"
    }
   }
  },
  {
   "cell_type": "code",
   "execution_count": null,
   "outputs": [],
   "source": [
    "t = TimeInstance(lambda: ExecuteScript(engine, \"test4.sql\"))\n",
    "results.append({\n",
    "    \"Test\": \"Test 9\",\n",
    "    \"Description\": \"Create non-clustered Index, single-column\",\n",
    "    \"Time (s)\": t,\n",
    "    \"Category\": \"Non-Cluster Add\"\n",
    "})"
   ],
   "metadata": {
    "collapsed": false,
    "pycharm": {
     "name": "#%%\n"
    }
   }
  },
  {
   "cell_type": "markdown",
   "source": [
    "## Test 10 - Single-Column, Non-Clustered Index Delete"
   ],
   "metadata": {
    "collapsed": false,
    "pycharm": {
     "name": "#%% md\n"
    }
   }
  },
  {
   "cell_type": "code",
   "execution_count": null,
   "outputs": [],
   "source": [
    "t = TimeInstance(lambda: ExecuteScript(engine, \"test2.sql\"))\n",
    "results.append({\n",
    "    \"Test\": \"Test 9\",\n",
    "    \"Description\": \"Drop single-column Non-Clustered Index\",\n",
    "    \"Time (s)\": t,\n",
    "    \"Category\": \"Non-Cluster Delete\"\n",
    "})"
   ],
   "metadata": {
    "collapsed": false,
    "pycharm": {
     "name": "#%%\n"
    }
   }
  },
  {
   "cell_type": "markdown",
   "source": [
    "## Test 11 - Single-Column, Non-Clustered Index Create - Extra Records"
   ],
   "metadata": {
    "collapsed": false,
    "pycharm": {
     "name": "#%% md\n"
    }
   }
  },
  {
   "cell_type": "code",
   "execution_count": null,
   "outputs": [],
   "source": [
    "with engine.connect() as conn:\n",
    "    AddRecords(numRecords, conn)"
   ],
   "metadata": {
    "collapsed": false,
    "pycharm": {
     "name": "#%%\n"
    }
   }
  },
  {
   "cell_type": "code",
   "execution_count": null,
   "outputs": [],
   "source": [
    "t = TimeInstance(lambda: ExecuteScript(engine, \"test4.sql\"))\n",
    "results.append({\n",
    "    \"Test\": \"Test 11\",\n",
    "    \"Description\": \"Create non-clustered Index, single-column, extra records\",\n",
    "    \"Time (s)\": t,\n",
    "    \"Category\": \"Non-Cluster Add\"\n",
    "})"
   ],
   "metadata": {
    "collapsed": false,
    "pycharm": {
     "name": "#%%\n"
    }
   }
  },
  {
   "cell_type": "markdown",
   "source": [
    "## Test 12 - Single-Column, Non-Clustered Index Delete - Extra Records"
   ],
   "metadata": {
    "collapsed": false,
    "pycharm": {
     "name": "#%% md\n"
    }
   }
  },
  {
   "cell_type": "code",
   "execution_count": null,
   "outputs": [],
   "source": [
    "t = TimeInstance(lambda: ExecuteScript(engine, \"test2.sql\"))\n",
    "results.append({\n",
    "    \"Test\": \"Test 12\",\n",
    "    \"Description\": \"Drop single-column Non-Clustered Index\",\n",
    "    \"Time (s)\": t,\n",
    "    \"Category\": \"Non-Cluster Delete\"\n",
    "})"
   ],
   "metadata": {
    "collapsed": false,
    "pycharm": {
     "name": "#%%\n"
    }
   }
  },
  {
   "cell_type": "markdown",
   "source": [
    "# TEST CATEGORY 4 - Dual-Column Non-Clustered Indexes\n",
    "\n",
    "The following section will test the creation/deletion of a Non-Clustered Index in various scenarios and with various amounts of data.  The Tests and keys are below:\n",
    "\n",
    "| Test Number | Description                                              |\n",
    "|-------------|----------------------------------------------------------|\n",
    "| Test 13     | Dual-Column, Non-Clustered Index Create                  |\n",
    "| Test 14     | Dual-Column, Non-Clustered Index Delete                  |\n",
    "| Test 15     | Dual-Column, Non-Clustered Index Create  - Extra Records |\n",
    "| Test 16     | Dual-Column, Non-Clustered Index Delete  - Extra Records |"
   ],
   "metadata": {
    "collapsed": false,
    "pycharm": {
     "name": "#%% md\n"
    }
   }
  },
  {
   "cell_type": "code",
   "execution_count": null,
   "outputs": [],
   "source": [
    "engine = CreateEngine(server, autocommit=True)\n",
    "ExecuteScript(engine, \"setupDB.sql\")"
   ],
   "metadata": {
    "collapsed": false,
    "pycharm": {
     "name": "#%%\n"
    }
   }
  },
  {
   "cell_type": "code",
   "execution_count": null,
   "outputs": [],
   "source": [
    "engine = CreateEngine(server, database)\n",
    "with engine.connect() as conn:\n",
    "    AddRecords(numRecords, conn)"
   ],
   "metadata": {
    "collapsed": false,
    "pycharm": {
     "name": "#%%\n"
    }
   }
  },
  {
   "cell_type": "markdown",
   "source": [
    "## Test 13 - Dual-Column, Non-Clustered Index Create"
   ],
   "metadata": {
    "collapsed": false,
    "pycharm": {
     "name": "#%% md\n"
    }
   }
  },
  {
   "cell_type": "code",
   "execution_count": null,
   "outputs": [],
   "source": [
    "t = TimeInstance(lambda: ExecuteScript(engine, \"test5.sql\"))\n",
    "results.append({\n",
    "    \"Test\": \"Test 13\",\n",
    "    \"Description\": \"Create non-clustered Index, dual-column\",\n",
    "    \"Time (s)\": t,\n",
    "    \"Category\": \"Non-Cluster Add\"\n",
    "})"
   ],
   "metadata": {
    "collapsed": false,
    "pycharm": {
     "name": "#%%\n"
    }
   }
  },
  {
   "cell_type": "markdown",
   "source": [
    "## Test 14 - Dual-Column, Non-Clustered Index Delete"
   ],
   "metadata": {
    "collapsed": false,
    "pycharm": {
     "name": "#%% md\n"
    }
   }
  },
  {
   "cell_type": "code",
   "execution_count": null,
   "outputs": [],
   "source": [
    "t = TimeInstance(lambda: ExecuteScript(engine, \"test2.sql\"))\n",
    "results.append({\n",
    "    \"Test\": \"Test 14\",\n",
    "    \"Description\": \"Drop dual-column Non-Clustered Index\",\n",
    "    \"Time (s)\": t,\n",
    "    \"Category\": \"Non-Cluster Delete\"\n",
    "})"
   ],
   "metadata": {
    "collapsed": false,
    "pycharm": {
     "name": "#%%\n"
    }
   }
  },
  {
   "cell_type": "markdown",
   "source": [
    "## Test 15 - Dual-Column, Non-Clustered Index Create - Extra Records"
   ],
   "metadata": {
    "collapsed": false,
    "pycharm": {
     "name": "#%% md\n"
    }
   }
  },
  {
   "cell_type": "code",
   "execution_count": null,
   "outputs": [],
   "source": [
    "with engine.connect() as conn:\n",
    "    AddRecords(numRecords, conn)"
   ],
   "metadata": {
    "collapsed": false,
    "pycharm": {
     "name": "#%%\n"
    }
   }
  },
  {
   "cell_type": "code",
   "execution_count": null,
   "outputs": [],
   "source": [
    "t = TimeInstance(lambda: ExecuteScript(engine, \"test5.sql\"))\n",
    "results.append({\n",
    "    \"Test\": \"Test 15\",\n",
    "    \"Description\": \"Create non-clustered Index, dual-column, extra records\",\n",
    "    \"Time (s)\": t,\n",
    "    \"Category\": \"Non-Cluster Add\"\n",
    "})"
   ],
   "metadata": {
    "collapsed": false,
    "pycharm": {
     "name": "#%%\n"
    }
   }
  },
  {
   "cell_type": "markdown",
   "source": [
    "## Test 16 - Dual-Column, Non-Clustered Index Delete - Extra Records"
   ],
   "metadata": {
    "collapsed": false,
    "pycharm": {
     "name": "#%% md\n"
    }
   }
  },
  {
   "cell_type": "code",
   "execution_count": null,
   "outputs": [],
   "source": [
    "t = TimeInstance(lambda: ExecuteScript(engine, \"test2.sql\"))\n",
    "results.append({\n",
    "    \"Test\": \"Test 16\",\n",
    "    \"Description\": \"Drop dual-column Non-Clustered Index\",\n",
    "    \"Time (s)\": t,\n",
    "    \"Category\": \"Non-Cluster Delete\"\n",
    "})"
   ],
   "metadata": {
    "collapsed": false,
    "pycharm": {
     "name": "#%%\n"
    }
   }
  },
  {
   "cell_type": "markdown",
   "source": [
    "# Plot Results"
   ],
   "metadata": {
    "collapsed": false,
    "pycharm": {
     "name": "#%% md\n"
    }
   }
  },
  {
   "cell_type": "code",
   "execution_count": null,
   "outputs": [],
   "source": [
    "pdResults = pd.DataFrame.from_dict(results)\n",
    "pdResults"
   ],
   "metadata": {
    "collapsed": false,
    "pycharm": {
     "name": "#%%\n"
    }
   }
  },
  {
   "cell_type": "code",
   "execution_count": null,
   "outputs": [],
   "source": [
    "pdResults[\"Time (s)\"] = pdResults[\"Time (s)\"].astype(float)"
   ],
   "metadata": {
    "collapsed": false,
    "pycharm": {
     "name": "#%%\n"
    }
   }
  },
  {
   "cell_type": "code",
   "execution_count": null,
   "outputs": [],
   "source": [
    "plt.figure(figsize=(15,8))\n",
    "sns.barplot(data=pdResults, x=\"Test\", y=\"Time (s)\")"
   ],
   "metadata": {
    "collapsed": false,
    "pycharm": {
     "name": "#%%\n"
    }
   }
  }
 ],
 "metadata": {
  "kernelspec": {
   "display_name": "Python 3",
   "language": "python",
   "name": "python3"
  },
  "language_info": {
   "codemirror_mode": {
    "name": "ipython",
    "version": 2
   },
   "file_extension": ".py",
   "mimetype": "text/x-python",
   "name": "python",
   "nbconvert_exporter": "python",
   "pygments_lexer": "ipython2",
   "version": "2.7.6"
  }
 },
 "nbformat": 4,
 "nbformat_minor": 0
}