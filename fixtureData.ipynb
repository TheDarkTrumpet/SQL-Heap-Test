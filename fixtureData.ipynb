{
 "cells": [
  {
   "cell_type": "code",
   "execution_count": 1,
   "outputs": [],
   "source": [
    "import seaborn as sns\n",
    "import matplotlib.pyplot as plt\n",
    "import pandas as pd\n",
    "from helper import ExecuteScript, AddRecords, TimeInstance, CreateEngine"
   ],
   "metadata": {
    "collapsed": false,
    "pycharm": {
     "name": "#%%\n"
    }
   }
  },
  {
   "cell_type": "code",
   "execution_count": 2,
   "outputs": [],
   "source": [
    "# User customizable stuff\n",
    "server = \"mssql.ad.tdt\"\n",
    "database = \"sqlHeapTest\"\n",
    "numRecords = 400000\n",
    "results = []"
   ],
   "metadata": {
    "collapsed": false,
    "pycharm": {
     "name": "#%%\n"
    }
   }
  },
  {
   "cell_type": "markdown",
   "source": [
    "# Setup database for testing\n",
    "Connect to the base, and run the setupDB.sql contents"
   ],
   "metadata": {
    "collapsed": false,
    "pycharm": {
     "name": "#%% md\n"
    }
   }
  },
  {
   "cell_type": "code",
   "execution_count": 3,
   "outputs": [],
   "source": [
    "engine = CreateEngine(server)"
   ],
   "metadata": {
    "collapsed": false,
    "pycharm": {
     "name": "#%%\n"
    }
   }
  },
  {
   "cell_type": "code",
   "execution_count": 4,
   "outputs": [],
   "source": [
    "ExecuteScript(engine, \"setupDB.sql\")"
   ],
   "metadata": {
    "collapsed": false,
    "pycharm": {
     "name": "#%%\n"
    }
   }
  },
  {
   "cell_type": "markdown",
   "source": [
    "# Setup Fixture Data\n",
    "Using the newly created setup, connect and insert some test records"
   ],
   "metadata": {
    "collapsed": false,
    "pycharm": {
     "name": "#%% md\n"
    }
   }
  },
  {
   "cell_type": "code",
   "execution_count": 5,
   "outputs": [
    {
     "name": "stderr",
     "output_type": "stream",
     "text": [
      "/var/folders/d7/4cl_f7wd7y5_c9gcsjbt78y80000gn/T/ipykernel_98160/2762592990.py:1: SAWarning: No driver name specified; this is expected by PyODBC when using DSN-less connections\n",
      "  engine = sa.create_engine(f\"mssql+pyodbc://{server}/{database}?Driver=ODBC+Driver+18+for+SQL+Server&Trusted_Connection=yes&TrustServerCertificate=Yes\")\n"
     ]
    },
    {
     "data": {
      "text/plain": "<sqlalchemy.engine.base.Connection at 0x1528560d0>"
     },
     "execution_count": 5,
     "metadata": {},
     "output_type": "execute_result"
    }
   ],
   "source": [
    "engine = CreateEngine(server, database)\n",
    "with engine.connect() as conn:\n",
    "    AddRecords(numRecords, conn)"
   ],
   "metadata": {
    "collapsed": false,
    "pycharm": {
     "name": "#%%\n"
    }
   }
  },
  {
   "cell_type": "markdown",
   "source": [
    "# Test 1\n",
    "Setup a clustered index, timing how long it takes on one column"
   ],
   "metadata": {
    "collapsed": false,
    "pycharm": {
     "name": "#%% md\n"
    }
   }
  },
  {
   "cell_type": "code",
   "execution_count": null,
   "outputs": [],
   "source": [
    "t = TimeInstance(lambda: ExecuteScript(engine, \"test1.sql\"))\n",
    "\n",
    "results.append({\n",
    "    \"Test\": \"Test 1\",\n",
    "    \"Description\": \"Create clustered Index, one column\",\n",
    "    \"Time (s)\": t\n",
    "})"
   ],
   "metadata": {
    "collapsed": false,
    "pycharm": {
     "name": "#%%\n"
    }
   }
  },
  {
   "cell_type": "markdown",
   "source": [
    "# Test 2\n",
    "Remove the clustered index, timing how long it takes"
   ],
   "metadata": {
    "collapsed": false,
    "pycharm": {
     "name": "#%% md\n"
    }
   }
  },
  {
   "cell_type": "code",
   "execution_count": null,
   "outputs": [],
   "source": [
    "t = TimeInstance(lambda: ExecuteScript(engine, \"test2.sql\"))\n",
    "results.append({\n",
    "    \"Test\": \"Test 2\",\n",
    "    \"Description\": \"Drop single-column Clustered Index\",\n",
    "    \"Time (s)\": t\n",
    "})"
   ],
   "metadata": {
    "collapsed": false,
    "pycharm": {
     "name": "#%%\n"
    }
   }
  },
  {
   "cell_type": "markdown",
   "source": [
    "# Test 3\n",
    "Insert another bunch of records and re-add the clustered index"
   ],
   "metadata": {
    "collapsed": false,
    "pycharm": {
     "name": "#%% md\n"
    }
   }
  },
  {
   "cell_type": "code",
   "execution_count": null,
   "outputs": [],
   "source": [
    "with engine.connect() as conn:\n",
    "    AddRecords(numRecords, conn)"
   ],
   "metadata": {
    "collapsed": false,
    "pycharm": {
     "name": "#%%\n"
    }
   }
  },
  {
   "cell_type": "code",
   "execution_count": null,
   "outputs": [],
   "source": [
    "t = TimeInstance(lambda: ExecuteScript(engine, \"test1.sql\"))\n",
    "results.append({\n",
    "    \"Test\": \"Test 3\",\n",
    "    \"Description\": \"Create clustered Index, one column, extra records\",\n",
    "    \"Time (s)\": t\n",
    "})"
   ],
   "metadata": {
    "collapsed": false,
    "pycharm": {
     "name": "#%%\n"
    }
   }
  },
  {
   "cell_type": "markdown",
   "source": [
    "# Test 4\n",
    "Drop the clustered index, again timing"
   ],
   "metadata": {
    "collapsed": false,
    "pycharm": {
     "name": "#%% md\n"
    }
   }
  },
  {
   "cell_type": "code",
   "execution_count": null,
   "outputs": [],
   "source": [
    "t = TimeInstance(lambda: ExecuteScript(engine, \"test2.sql\"))\n",
    "results.append({\n",
    "    \"Test\": \"Test 4\",\n",
    "    \"Description\": \"Drop single-column Clustered Index, extra records\",\n",
    "    \"Time (s)\": t\n",
    "})"
   ],
   "metadata": {
    "collapsed": false,
    "pycharm": {
     "name": "#%%\n"
    }
   }
  },
  {
   "cell_type": "markdown",
   "source": [
    "# Second Test!  With 2 columns in index\n",
    "\n",
    "# Prep Database"
   ],
   "metadata": {
    "collapsed": false,
    "pycharm": {
     "name": "#%% md\n"
    }
   }
  },
  {
   "cell_type": "code",
   "execution_count": null,
   "outputs": [],
   "source": [
    "engine = CreateEngine(server)\n",
    "ExecuteScript(engine, \"setupDB.sql\")"
   ],
   "metadata": {
    "collapsed": false,
    "pycharm": {
     "name": "#%%\n"
    }
   }
  },
  {
   "cell_type": "code",
   "execution_count": null,
   "outputs": [],
   "source": [
    "engine = CreateEngine(server, database)\n",
    "\n",
    "with engine.connect() as conn:\n",
    "    AddRecords(numRecords, conn)"
   ],
   "metadata": {
    "collapsed": false,
    "pycharm": {
     "name": "#%%\n"
    }
   }
  },
  {
   "cell_type": "markdown",
   "source": [
    "# Test 5\n",
    "Setup a clustered index, two columns, seeing how long it takes"
   ],
   "metadata": {
    "collapsed": false,
    "pycharm": {
     "name": "#%% md\n"
    }
   }
  },
  {
   "cell_type": "code",
   "execution_count": null,
   "outputs": [],
   "source": [
    "t = TimeInstance(lambda: ExecuteScript(engine, \"test3.sql\"))\n",
    "results.append({\n",
    "    \"Test\": \"Test 5\",\n",
    "    \"Description\": \"Create clustered Index, two columns\",\n",
    "    \"Time (s)\": t\n",
    "})"
   ],
   "metadata": {
    "collapsed": false,
    "pycharm": {
     "name": "#%%\n"
    }
   }
  },
  {
   "cell_type": "markdown",
   "source": [
    "# Test 6\n",
    "Remove the clustered index, timing how long it takes"
   ],
   "metadata": {
    "collapsed": false,
    "pycharm": {
     "name": "#%% md\n"
    }
   }
  },
  {
   "cell_type": "code",
   "execution_count": null,
   "outputs": [],
   "source": [
    "t = TimeInstance(lambda: ExecuteScript(engine, \"test2.sql\"))\n",
    "results.append({\n",
    "    \"Test\": \"Test 6\",\n",
    "    \"Description\": \"Drop dual-column Clustered Index\",\n",
    "    \"Time (s)\": t\n",
    "})"
   ],
   "metadata": {
    "collapsed": false,
    "pycharm": {
     "name": "#%%\n"
    }
   }
  },
  {
   "cell_type": "markdown",
   "source": [
    "# Test 7\n",
    "Insert another bunch of records and re-add the clustered index"
   ],
   "metadata": {
    "collapsed": false,
    "pycharm": {
     "name": "#%% md\n"
    }
   }
  },
  {
   "cell_type": "code",
   "execution_count": null,
   "outputs": [],
   "source": [
    "with engine.connect() as conn:\n",
    "    AddRecords(numRecords, conn)"
   ],
   "metadata": {
    "collapsed": false,
    "pycharm": {
     "name": "#%%\n"
    }
   }
  },
  {
   "cell_type": "code",
   "execution_count": null,
   "outputs": [],
   "source": [
    "t = TimeInstance(lambda: ExecuteScript(engine, \"test3.sql\"))\n",
    "results.append({\n",
    "    \"Test\": \"Test 7\",\n",
    "    \"Description\": \"Create clustered Index, 2 columns, extra records\",\n",
    "    \"Time (s)\": t\n",
    "})"
   ],
   "metadata": {
    "collapsed": false,
    "pycharm": {
     "name": "#%%\n"
    }
   }
  },
  {
   "cell_type": "markdown",
   "source": [
    "# Test 8\n",
    "Drop the clustered Index, again timing"
   ],
   "metadata": {
    "collapsed": false,
    "pycharm": {
     "name": "#%% md\n"
    }
   }
  },
  {
   "cell_type": "code",
   "execution_count": null,
   "outputs": [],
   "source": [
    "t = TimeInstance(lambda: ExecuteScript(engine, \"test2.sql\"))\n",
    "results.append({\n",
    "    \"Test\": \"Test 8\",\n",
    "    \"Description\": \"Drop dual-column Clustered Index, extra records\",\n",
    "    \"Time (s)\": t\n",
    "})"
   ],
   "metadata": {
    "collapsed": false,
    "pycharm": {
     "name": "#%%\n"
    }
   }
  },
  {
   "cell_type": "markdown",
   "source": [
    "# Plot Results"
   ],
   "metadata": {
    "collapsed": false,
    "pycharm": {
     "name": "#%% md\n"
    }
   }
  },
  {
   "cell_type": "code",
   "execution_count": null,
   "outputs": [],
   "source": [
    "pdResults = pd.DataFrame.from_dict(results)\n",
    "pdResults"
   ],
   "metadata": {
    "collapsed": false,
    "pycharm": {
     "name": "#%%\n"
    }
   }
  },
  {
   "cell_type": "code",
   "execution_count": null,
   "outputs": [],
   "source": [
    "pdResults[\"Time (s)\"] = pdResults[\"Time (s)\"].astype(float)"
   ],
   "metadata": {
    "collapsed": false,
    "pycharm": {
     "name": "#%%\n"
    }
   }
  },
  {
   "cell_type": "code",
   "execution_count": null,
   "outputs": [],
   "source": [
    "plt.figure(figsize=(15,8))\n",
    "sns.barplot(data=pdResults, x=\"Test\", y=\"Time (s)\")"
   ],
   "metadata": {
    "collapsed": false,
    "pycharm": {
     "name": "#%%\n"
    }
   }
  }
 ],
 "metadata": {
  "kernelspec": {
   "display_name": "Python 3",
   "language": "python",
   "name": "python3"
  },
  "language_info": {
   "codemirror_mode": {
    "name": "ipython",
    "version": 2
   },
   "file_extension": ".py",
   "mimetype": "text/x-python",
   "name": "python",
   "nbconvert_exporter": "python",
   "pygments_lexer": "ipython2",
   "version": "2.7.6"
  }
 },
 "nbformat": 4,
 "nbformat_minor": 0
}